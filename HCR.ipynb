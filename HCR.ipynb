{
 "cells": [
  {
   "cell_type": "code",
   "execution_count": 5,
   "id": "24976428",
   "metadata": {},
   "outputs": [
    {
     "name": "stdout",
     "output_type": "stream",
     "text": [
      "1/1 [==============================] - 0s 79ms/step\n"
     ]
    }
   ],
   "source": [
    "import cv2\n",
    "import numpy as np\n",
    "import tkinter as tk\n",
    "from tkinter import filedialog\n",
    "from keras.models import load_model\n",
    "import os\n",
    "\n",
    "# Load the default model (default epoch1)\n",
    "default_model_path = 'Models/model_hand.h5'\n",
    "model = load_model(default_model_path)\n",
    "word_dict = {0: 'A', 1: 'B', 2: 'C', 3: 'D', 4: 'E', 5: 'F', 6: 'G', 7: 'H', 8: 'I', 9: 'J', 10: 'K', 11: 'L',\n",
    "             12: 'M', 13: 'N', 14: 'O', 15: 'P', 16: 'Q', 17: 'R', 18: 'S', 19: 'T', 20: 'U', 21: 'V', 22: 'W',\n",
    "             23: 'X', 24: 'Y', 25: 'Z'}\n",
    "\n",
    "# Create the GUI window\n",
    "root = tk.Tk()\n",
    "root.title(\"Handwritten Character Recognition\")\n",
    "root.geometry(\"600x400\")  # Setting initial window size\n",
    "\n",
    "# Create a consistent style for buttons\n",
    "button_style = {'width': 20, 'height': 2, 'bg': '#D3D3D3', 'fg': 'black', 'borderwidth': 2, 'relief': 'groove'}\n",
    "\n",
    "# Create labels and buttons in the GUI\n",
    "welcome_label = tk.Label(root, text=\"Handwritten Character Recognition\", font=(\"Arial\", 16))\n",
    "welcome_label.pack(pady=10)\n",
    "\n",
    "select_image_button = tk.Button(root, text=\"Select Image\", command=predict_character, **button_style)\n",
    "select_image_button.pack(pady=10)\n",
    "\n",
    "change_model_button = tk.Button(root, text=\"Change Model\", command=change_model_file, **button_style)\n",
    "change_model_button.pack(pady=10)\n",
    "\n",
    "model_label = tk.Label(root, text=\"Current Model: \" + os.path.basename(default_model_path), font=(\"Arial\", 12))\n",
    "model_label.pack()\n",
    "\n",
    "root.mainloop()\n"
   ]
  }
 ],
 "metadata": {
  "kernelspec": {
   "display_name": "Python 3 (ipykernel)",
   "language": "python",
   "name": "python3"
  },
  "language_info": {
   "codemirror_mode": {
    "name": "ipython",
    "version": 3
   },
   "file_extension": ".py",
   "mimetype": "text/x-python",
   "name": "python",
   "nbconvert_exporter": "python",
   "pygments_lexer": "ipython3",
   "version": "3.11.5"
  }
 },
 "nbformat": 4,
 "nbformat_minor": 5
}
